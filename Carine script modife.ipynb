{
 "cells": [
  {
   "cell_type": "code",
   "execution_count": 3,
   "metadata": {},
   "outputs": [],
   "source": [
    "import cv2\n",
    "import glob\n",
    "import numpy as np\n",
    "import imutils"
   ]
  },
  {
   "cell_type": "code",
   "execution_count": 4,
   "metadata": {},
   "outputs": [],
   "source": [
    "images = glob.glob('bd_projet_scia/mires/*')"
   ]
  },
  {
   "cell_type": "code",
   "execution_count": 38,
   "metadata": {},
   "outputs": [],
   "source": [
    "for fname in images[:10]:\n",
    "        raw_image = cv2.imread(fname)\n",
    "\n",
    "\n",
    "        scale_percent = 30 # percent of original size\n",
    "        width = int(raw_image.shape[1] * scale_percent / 100)\n",
    "        height = int(raw_image.shape[0] * scale_percent / 100)\n",
    "        dim = (width, height)\n",
    "        # resize image\n",
    "        resized = cv2.resize(raw_image, dim, interpolation = cv2.INTER_AREA)\n",
    "        cv2.imshow('a', resized)\n",
    "        cv2.waitKey(0)\n",
    "\n",
    "        gray = cv2.cvtColor(resized,cv2.COLOR_BGR2GRAY)\n",
    "\n",
    "        bilateral_filtered_image = cv2.bilateralFilter(gray, 5, 175, 175)\n",
    "        #kernel_size = 3\n",
    "        #bilateral_filtered_image = cv2.GaussianBlur(gray, (kernel_size, kernel_size), 0)\n",
    "        cv2.imshow('a', bilateral_filtered_image)\n",
    "        cv2.waitKey(0)\n",
    "\n",
    "\n",
    "        low_threshold = 30\n",
    "        #low_threshold = 50\n",
    "        high_threshold = 150\n",
    "        #high_threshold = 175\n",
    "        edges = cv2.Canny(bilateral_filtered_image, low_threshold, high_threshold, 7)\n",
    "        cv2.imshow('a', edges)\n",
    "        cv2.waitKey(0)\n",
    "\n",
    "        cnts = cv2.findContours(edges.copy(), cv2.RETR_TREE, cv2.CHAIN_APPROX_SIMPLE)\n",
    "        cnts = imutils.grab_contours(cnts)\n",
    "        cnts = sorted(cnts, key = cv2.contourArea, reverse = True)[:10]\n",
    "        screenCnt = None\n",
    "\n",
    "        # loop over our contours\n",
    "        if len(cnts) > 0:\n",
    "                for c in cnts:\n",
    "                        # approximate the contour\n",
    "                        peri = cv2.arcLength(c, True)\n",
    "                        #approx = cv2.approxPolyDP(c, 0.015 * peri, True)\n",
    "                        approx = cv2.approxPolyDP(c, 0.1 * peri, True)\n",
    "                \n",
    "                        # if our approximated contour has four points, then\n",
    "                        # we can assume that we have found our screen\n",
    "                        if len(approx) >= 4 and len(approx) <= 12:\n",
    "                                screenCnt = approx\n",
    "                                break\n",
    "\n",
    "                #cv2.drawContours(resized, [screenCnt], -1, (0, 255, 0), 3)\n",
    "                copy = resized.copy()\n",
    "                cv2.drawContours(copy, cnts, -1, (0,255,0), 3)\n",
    "                cv2.imshow(\"a\", copy)\n",
    "                cv2.waitKey(0)\n",
    "\n",
    "                for contour in cnts:\n",
    "                        (x,y,w,h) = cv2.boundingRect(contour)\n",
    "                        cv2.rectangle(resized, (x,y), (x+w,y+h), (0,255,0), 2)\n",
    "                cv2.imshow(\"a\", resized)\n",
    "                cv2.waitKey(0)\n",
    "\n",
    "\n",
    "        cv2.destroyAllWindows()"
   ]
  },
  {
   "cell_type": "code",
   "execution_count": null,
   "metadata": {},
   "outputs": [],
   "source": []
  }
 ],
 "metadata": {
  "kernelspec": {
   "display_name": "Python 3",
   "language": "python",
   "name": "python3"
  },
  "language_info": {
   "codemirror_mode": {
    "name": "ipython",
    "version": 3
   },
   "file_extension": ".py",
   "mimetype": "text/x-python",
   "name": "python",
   "nbconvert_exporter": "python",
   "pygments_lexer": "ipython3",
   "version": "3.6.6"
  }
 },
 "nbformat": 4,
 "nbformat_minor": 2
}

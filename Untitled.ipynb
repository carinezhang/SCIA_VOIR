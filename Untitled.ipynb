{
 "cells": [
  {
   "cell_type": "code",
   "execution_count": 327,
   "metadata": {},
   "outputs": [],
   "source": [
    "import cv2\n",
    "import numpy as np\n",
    "from matplotlib import pyplot as plt\n",
    "import math"
   ]
  },
  {
   "cell_type": "code",
   "execution_count": 57,
   "metadata": {},
   "outputs": [],
   "source": [
    "def invert_img(img):\n",
    "    return cv2.bitwise_not(img)"
   ]
  },
  {
   "cell_type": "code",
   "execution_count": 3,
   "metadata": {},
   "outputs": [],
   "source": [
    "def print_img(title, img):\n",
    "    cv2.imshow(title, img)\n",
    "    cv2.waitKey(0)\n",
    "    cv2.destroyAllWindows()"
   ]
  },
  {
   "cell_type": "code",
   "execution_count": 4,
   "metadata": {},
   "outputs": [
    {
     "data": {
      "text/plain": [
       "<matplotlib.image.AxesImage at 0x7f8f59072b00>"
      ]
     },
     "execution_count": 4,
     "metadata": {},
     "output_type": "execute_result"
    },
    {
     "data": {
      "image/png": "[encoded data removed]",
      "text/plain": [
       "<Figure size 432x288 with 1 Axes>"
      ]
     },
     "metadata": {},
     "output_type": "display_data"
    }
   ],
   "source": [
    "plt.imshow(edges)"
   ]
  },
  {
   "cell_type": "code",
   "execution_count": 24,
   "metadata": {},
   "outputs": [],
   "source": [
    "print_img('original', img)"
   ]
  },
  {
   "cell_type": "code",
   "execution_count": 328,
   "metadata": {},
   "outputs": [],
   "source": [
    "img = cv2.imread(\"bd_projet_scia/damier/G0010022.JPG\")\n",
    "edges = cv2.Canny(img, 100, 200)\n",
    "print_img('original', img)"
   ]
  },
  {
   "cell_type": "code",
   "execution_count": 329,
   "metadata": {},
   "outputs": [],
   "source": [
    "scale_percent = 0.25 # percent of original size\n",
    "width = int(img.shape[1] * scale_percent)\n",
    "height = int(img.shape[0] * scale_percent)\n",
    "dim = (width, height)\n",
    "\n",
    "# GRAYSCALE THE IMAGE\n",
    "resized = cv2.resize(img, dim, 0.2, 0.2, interpolation = cv2.INTER_AREA)\n",
    "gray = cv2.cvtColor(resized,cv2.COLOR_BGR2GRAY)\n",
    "print_img('gray', gray)"
   ]
  },
  {
   "cell_type": "code",
   "execution_count": 330,
   "metadata": {},
   "outputs": [],
   "source": [
    "# GAUSSIAN BLUR THE IMAGE\n",
    "kernel_size = 3\n",
    "blur_gray = cv2.GaussianBlur(gray, (kernel_size, kernel_size), 0)\n",
    "print_img('Gaussian blur', blur_gray)"
   ]
  },
  {
   "cell_type": "code",
   "execution_count": 331,
   "metadata": {},
   "outputs": [],
   "source": [
    "thresh = 200\n",
    "maxValue = 255\n",
    "th, dst_gray2 = cv2.threshold(gray, thresh, maxValue, cv2.THRESH_BINARY + cv2.THRESH_OTSU)\n",
    "th2, dst_gray = cv2.threshold(gray, thresh, maxValue, cv2.THRESH_BINARY)\n",
    "print_img('threshold bin + otsu', dst_gray)\n",
    "print_img('threshold bin', dst_gray2)"
   ]
  },
  {
   "cell_type": "code",
   "execution_count": 343,
   "metadata": {},
   "outputs": [],
   "source": [
    "inv_img = invert_img(dst_gray)\n",
    "print_img('inv gray', inv_img)"
   ]
  },
  {
   "cell_type": "code",
   "execution_count": 347,
   "metadata": {},
   "outputs": [],
   "source": [
    "im2, contours, hierar = cv2.findContours(inv_img, cv2.RETR_TREE, cv2.CHAIN_APPROX_NONE)\n",
    "#inv_img = cv2.cvtColor(inv_img, cv2.COLOR_GRAY2BGR)\n",
    "#cv2.drawContours(inv_img, contours, -1, (0, 255, 0))\n",
    "print_img('contours', inv_img)"
   ]
  },
  {
   "cell_type": "code",
   "execution_count": 346,
   "metadata": {},
   "outputs": [
    {
     "name": "stdout",
     "output_type": "stream",
     "text": [
      "<class 'numpy.ndarray'>\n"
     ]
    }
   ],
   "source": [
    "idx = cv2.findNonZero(inv_img)\n",
    "print(type(idx))\n",
    "#x, y, w, h = cv2.boundingRect(idx)\n",
    "#rect = inv_img[:-200, :-200]\n",
    "#print_img('rect', rect)"
   ]
  },
  {
   "cell_type": "code",
   "execution_count": 352,
   "metadata": {},
   "outputs": [],
   "source": [
    "mask = np.zeros(dst_gray.shape, np.uint8)\n",
    "good = []\n",
    "areas = []\n",
    "\n",
    "tmp = np.full(inv_img.shape, 255, dtype=np.uint8)\n",
    "\n",
    "i = 0\n",
    "for i in range(len(contours)):\n",
    "    cnt = contours[i]\n",
    "    if 100 < cv2.contourArea(cnt):\n",
    "        areas.append(cv2.contourArea(cnt))\n",
    "        cv2.drawContours(tmp, contours, i, 0)\n",
    "        good.append(cnt)\n",
    "        \n",
    "#for cnt in contours:\n",
    "#    if 100 < cv2.contourArea(cnt) < 5000:\n",
    "#        (x, y, w, h) = cv2.boundingRect(cnt)\n",
    "#        cv2.rectangle(inv_img, (x, y), (x+w, y+h), 0, -1)\n",
    "#        i += 1\n",
    "#        good.append(cnt)\n",
    "        #cv2.drawContours(inv_img, [cnt], 0, (0, 255, 0), 2)\n",
    "        #cv2.drawContours(mask, [cnt], 0, 255, -1)\n",
    "        \n",
    "print_img('contours', tmp)\n",
    "#print_img('mask', mask)"
   ]
  },
  {
   "cell_type": "code",
   "execution_count": 353,
   "metadata": {},
   "outputs": [],
   "source": [
    "idx_max = np.argmax(areas)\n",
    "del areas[idx_max]\n",
    "del good[idx_max]\n",
    "idx_max = np.argmax(areas)\n",
    "\n",
    "(x, y, w, h) =cv2.boundingRect(good[idx_max])\n",
    "cv2.rectangle(inv_img, (x, y), (y+w, y+h), (0, 0, 255), 2)\n",
    "print_img('try extract', inv_img)"
   ]
  },
  {
   "cell_type": "code",
   "execution_count": null,
   "metadata": {},
   "outputs": [],
   "source": []
  },
  {
   "cell_type": "code",
   "execution_count": 320,
   "metadata": {},
   "outputs": [],
   "source": [
    "print_img('dst_Gray', dst_gray)"
   ]
  },
  {
   "cell_type": "code",
   "execution_count": 243,
   "metadata": {},
   "outputs": [
    {
     "name": "stdout",
     "output_type": "stream",
     "text": [
      "False None\n"
     ]
    }
   ],
   "source": [
    "ret, corners = cv2.findChessboardCorners(inv_img, (9,8), cv2.CALIB_CB_FAST_CHECK)\n",
    "print(ret, corners)"
   ]
  },
  {
   "cell_type": "code",
   "execution_count": 54,
   "metadata": {},
   "outputs": [],
   "source": [
    "dst = cv2.cornerHarris(dst_gray, 3, 5, 0.04)\n",
    "#dst = cv2.dilate(dst, None)\n",
    "#resized[dst>0.01 * dst.max()]=[0, 0, 255]\n",
    "print_img('corner Harris', dst)"
   ]
  },
  {
   "cell_type": "code",
   "execution_count": 55,
   "metadata": {},
   "outputs": [],
   "source": [
    "test = cv2.Canny(dst_gray, 50, 200, None, 3)\n",
    "ctest = cv2.cvtColor(test, cv2.COLOR_GRAY2BGR)\n",
    "print_img('gray to bgr', ctest)"
   ]
  },
  {
   "cell_type": "code",
   "execution_count": 39,
   "metadata": {},
   "outputs": [],
   "source": [
    "threshold = 50\n",
    "lines = cv2.HoughLines(test, 10, 3.14 / 90, threshold, None, 0, 0)\n",
    "lines = cv2.dilate(lines, None)\n",
    "for line in lines:\n",
    "    rho = line[0][0]\n",
    "    theta = line[0][1]\n",
    "    a = math.cos(theta)\n",
    "    b = math.sin(theta)\n",
    "    x0 = a * rho\n",
    "    y0 = b * rho\n",
    "    pt1 = (int(x0 + 1000 * (-b)), int(y0 + 1000 * a))\n",
    "    pt2 = (int(x0 - 1000 * (-b)), int(y0 - 1000 * a))\n",
    "    cv2.line(ctest, pt1, pt2, (0, 0, 255), 3, cv2.LINE_AA)\n",
    "print_img('test', ctest)"
   ]
  },
  {
   "cell_type": "code",
   "execution_count": 60,
   "metadata": {},
   "outputs": [
    {
     "name": "stdout",
     "output_type": "stream",
     "text": [
      "False None\n",
      "False None\n"
     ]
    }
   ],
   "source": [
    "# RUN THE SEARCH\n",
    "ret, corners = cv2.findChessboardCorners(inv_img, (9,8),flags=cv2.CALIB_CB_FAST_CHECK + cv2.CALIB_CB_ADAPTIVE_THRESH)\n",
    "#ret, corners = cv2.findChessboardCorners(img, (3,3),flags=cv2.CALIB_CB_FAST_CHECK)\n",
    "ret2, corners2 = cv2.findChessboardCorners(inv_img, (8, 9),cv2.CALIB_CB_ADAPTIVE_THRESH + cv2.CALIB_CB_NORMALIZE_IMAGE)\n",
    "\n",
    "print(ret, corners)\n",
    "print(ret2, corners2)"
   ]
  },
  {
   "cell_type": "code",
   "execution_count": 5,
   "metadata": {},
   "outputs": [
    {
     "data": {
      "text/plain": [
       "(False, None)"
      ]
     },
     "execution_count": 5,
     "metadata": {},
     "output_type": "execute_result"
    }
   ],
   "source": [
    "new_img = cv2.GaussianBlur(img, (5, 5), 0)\n",
    "tmp_blur = cv2.resize(new_img, (0, 0), fx=0.1, fy=0.1)\n",
    "print_img('blur', new_img)\n",
    "\n",
    "cv2.findChessboardCorners(new_img, (9, 8), \n",
    "                          flags=(cv2.CALIB_CB_ADAPTIVE_THRESH \n",
    "                                 + cv2.CALIB_CB_NORMALIZE_IMAGE))"
   ]
  },
  {
   "cell_type": "code",
   "execution_count": null,
   "metadata": {},
   "outputs": [],
   "source": []
  }
 ],
 "metadata": {
  "kernelspec": {
   "display_name": "Python 3",
   "language": "python",
   "name": "python3"
  },
  "language_info": {
   "codemirror_mode": {
    "name": "ipython",
    "version": 3
   },
   "file_extension": ".py",
   "mimetype": "text/x-python",
   "name": "python",
   "nbconvert_exporter": "python",
   "pygments_lexer": "ipython3",
   "version": "3.6.6"
  }
 },
 "nbformat": 4,
 "nbformat_minor": 2
}
